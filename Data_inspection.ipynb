{
 "cells": [
  {
   "cell_type": "code",
   "execution_count": null,
   "metadata": {
    "editable": true
   },
   "outputs": [],
   "source": []
  },
  {
   "cell_type": "code",
   "execution_count": 1,
   "metadata": {
    "editable": true
   },
   "outputs": [],
   "source": [
    "import pandas as pd\n",
    "import configparser\n",
    "import psycopg2\n",
    "import boto3\n",
    "import json\n",
    "import boto3\n",
    "import time\n",
    "from threading import Timer\n",
    "import logging\n",
    "%load_ext sql\n",
    "\n",
    "logger = logging.getLogger() #(__name__)\n",
    "logging.basicConfig(format=\"[%(levelname)s] [%(asctime)s] %(message)s\")\n",
    "logger.setLevel(logging.INFO)"
   ]
  },
  {
   "cell_type": "code",
   "execution_count": 2,
   "metadata": {
    "editable": true
   },
   "outputs": [
    {
     "name": "stdout",
     "output_type": "stream",
     "text": [
      "s3.ObjectSummary(bucket_name='udacity-dend', key='song-data/')\n",
      "s3.ObjectSummary(bucket_name='udacity-dend', key='song-data/A/A/A/TRAAAAK128F9318786.json')\n",
      "s3.ObjectSummary(bucket_name='udacity-dend', key='song-data/A/A/A/TRAAAAV128F421A322.json')\n",
      "s3.ObjectSummary(bucket_name='udacity-dend', key='song-data/A/A/A/TRAAABD128F429CF47.json')\n",
      "s3.ObjectSummary(bucket_name='udacity-dend', key='song-data/A/A/A/TRAAACN128F9355673.json')\n"
     ]
    }
   ],
   "source": [
    "config = configparser.ConfigParser()\n",
    "config.read_file(open('dwh.cfg'))\n",
    "\n",
    "KEY                    = config.get('AWS','KEY')\n",
    "SECRET                 = config.get('AWS','SECRET')\n",
    "\n",
    "DWH_DB_USER            = config.get(\"DWH\",\"DWH_DB_USER\")\n",
    "DWH_DB_PASSWORD        = config.get(\"DWH\",\"DWH_DB_PASSWORD\")\n",
    "DWH_PORT               = config.get(\"DWH\",\"DWH_PORT\")\n",
    "DWH_DB                 = config.get(\"DWH\",\"DWH_DB\")\n",
    "DWH_CLUSTER_IDENTIFIER = config.get(\"DWH\",\"DWH_CLUSTER_IDENTIFIER\")\n",
    "DWH_IAM_ROLE_NAME      = config.get(\"DWH\",\"DWH_IAM_ROLE_NAME\")\n",
    "\n",
    "s3 = boto3.resource('s3',\n",
    "                       region_name=\"us-west-2\",\n",
    "                       aws_access_key_id=KEY,\n",
    "                       aws_secret_access_key=SECRET\n",
    "                   )\n",
    "\n",
    "sampleDbBucket =  s3.Bucket(\"udacity-dend\")\n",
    "'''\n",
    "Prefix=\"data-pipelines\"\n",
    "Prefix=\"log-data\"\n",
    "Prefix=\"pagila\"\n",
    "Prefix=\"song-data\"\n",
    "Prefix=\"log_json_path\"\n",
    "'''\n",
    "for obj in sampleDbBucket.objects.filter(Prefix=\"song-data\").limit(5):\n",
    "    print(obj)"
   ]
  },
  {
   "cell_type": "code",
   "execution_count": 37,
   "metadata": {
    "editable": true
   },
   "outputs": [],
   "source": [
    "# itemInSession \tlength \tregistration \tsessionId \tstatus \tts  originaly the only ones of numeric type\n",
    "dfs_ = []\n",
    "for obj in sampleDbBucket.objects.filter(Prefix=\"log-data\"):\n",
    "    tmp_json = obj.get()['Body'].read().decode('utf-8')\n",
    "    edata = pd.read_json(tmp_json, lines=True)\n",
    "    dfs_.append(edata)\n",
    "df_events_ = pd.concat(dfs_, ignore_index=True) # (8056, 18)\n",
    "df_events = df_events_.loc[df_events_.page == \"NextSong\"].reset_index(drop=True) # (6820, 18) -> (6820, 25)\n",
    "\n",
    "df_events[\"start_time\"] = df_events[\"ts\"]\n",
    "df_events[\"hour\"] = df_events.start_time.apply(lambda x: pd.Timestamp(x, unit='ms').hour)\n",
    "df_events[\"day\"] = df_events.start_time.apply(lambda x: pd.Timestamp(x, unit='ms').day)\n",
    "df_events[\"week\"] = df_events.start_time.apply(lambda x: pd.Timestamp(x, unit='ms').week)\n",
    "df_events[\"month\"] = df_events.start_time.apply(lambda x: pd.Timestamp(x, unit='ms').month)\n",
    "df_events[\"year\"] = df_events.start_time.apply(lambda x: pd.Timestamp(x, unit='ms').year)\n",
    "df_events[\"weekday\"] = df_events.start_time.apply(lambda x: pd.Timestamp(x, unit='ms').weekday()) # Monday == 0 … Sunday == 6"
   ]
  },
  {
   "cell_type": "code",
   "execution_count": 40,
   "metadata": {
    "editable": true
   },
   "outputs": [
    {
     "data": {
      "text/plain": [
       "(6820, 25)"
      ]
     },
     "execution_count": 40,
     "metadata": {},
     "output_type": "execute_result"
    }
   ],
   "source": [
    "df_events.shape"
   ]
  },
  {
   "cell_type": "code",
   "execution_count": null,
   "metadata": {
    "editable": true
   },
   "outputs": [],
   "source": []
  },
  {
   "cell_type": "code",
   "execution_count": null,
   "metadata": {
    "editable": true
   },
   "outputs": [],
   "source": []
  },
  {
   "cell_type": "code",
   "execution_count": null,
   "metadata": {
    "editable": true
   },
   "outputs": [],
   "source": []
  },
  {
   "cell_type": "code",
   "execution_count": null,
   "metadata": {
    "editable": true
   },
   "outputs": [],
   "source": []
  },
  {
   "cell_type": "code",
   "execution_count": null,
   "metadata": {
    "editable": true
   },
   "outputs": [],
   "source": [
    "# too many objects ... one file per song ...\n",
    "# don't run this\n",
    "dfs = []\n",
    "for sobj in sampleDbBucket.objects.filter(Prefix=\"song-data\"):\n",
    "    stmp_json = sobj.get()['Body'].read().decode('utf-8')\n",
    "    sdata = pd.read_json(stmp_json, lines=True)\n",
    "    dfs.append(sdata)\n",
    "df_songs_ = pd.concat(dfs, ignore_index=True) # (8056, 18)\n",
    "#df_songs = df_songs_.loc[df_songs_.page == \"NextSong\"].reset_index(drop=True) # (6820, 18)"
   ]
  },
  {
   "cell_type": "code",
   "execution_count": 4,
   "metadata": {
    "editable": true
   },
   "outputs": [
    {
     "data": {
      "text/plain": [
       "3354"
      ]
     },
     "execution_count": 4,
     "metadata": {},
     "output_type": "execute_result"
    }
   ],
   "source": [
    "len(dfs)"
   ]
  },
  {
   "cell_type": "code",
   "execution_count": null,
   "metadata": {
    "editable": true
   },
   "outputs": [],
   "source": []
  },
  {
   "cell_type": "code",
   "execution_count": null,
   "metadata": {
    "editable": true
   },
   "outputs": [],
   "source": []
  },
  {
   "cell_type": "code",
   "execution_count": 28,
   "metadata": {
    "editable": true
   },
   "outputs": [],
   "source": [
    "import pandas as pd\n",
    "'''\n",
    "['artist_id', text\n",
    " 'artist_latitude', numeric,\n",
    " 'artist_location', test\n",
    " 'artist_longitude', numeric,\n",
    " 'artist_name', text\n",
    " 'duration', numeric,\n",
    " 'num_songs', numeric,\n",
    " 'song_id', text\n",
    " 'title', text\n",
    " 'year'] numeric,\n",
    "'''\n",
    "content_object = s3.Object('udacity-dend', 'song-data/A/A/A/TRAAACN128F9355673.json')\n",
    "file_content = content_object.get()['Body'].read().decode('utf-8')\n",
    "data = pd.read_json(file_content, lines=True)"
   ]
  },
  {
   "cell_type": "code",
   "execution_count": 29,
   "metadata": {
    "editable": true
   },
   "outputs": [
    {
     "data": {
      "text/plain": [
       "s3.Object(bucket_name='udacity-dend', key='song-data/A/A/A/TRAAACN128F9355673.json')"
      ]
     },
     "execution_count": 29,
     "metadata": {},
     "output_type": "execute_result"
    }
   ],
   "source": [
    "content_object"
   ]
  },
  {
   "cell_type": "code",
   "execution_count": 30,
   "metadata": {
    "editable": true
   },
   "outputs": [
    {
     "data": {
      "text/plain": [
       "['artist_id',\n",
       " 'artist_latitude',\n",
       " 'artist_location',\n",
       " 'artist_longitude',\n",
       " 'artist_name',\n",
       " 'duration',\n",
       " 'num_songs',\n",
       " 'song_id',\n",
       " 'title',\n",
       " 'year']"
      ]
     },
     "execution_count": 30,
     "metadata": {},
     "output_type": "execute_result"
    }
   ],
   "source": [
    "data.columns.tolist()"
   ]
  },
  {
   "cell_type": "code",
   "execution_count": 33,
   "metadata": {
    "editable": true
   },
   "outputs": [
    {
     "data": {
      "text/plain": [
       "'Hit Da Scene'"
      ]
     },
     "execution_count": 33,
     "metadata": {},
     "output_type": "execute_result"
    }
   ],
   "source": [
    "data.title[0]"
   ]
  },
  {
   "cell_type": "code",
   "execution_count": null,
   "metadata": {
    "editable": true
   },
   "outputs": [],
   "source": []
  },
  {
   "cell_type": "code",
   "execution_count": null,
   "metadata": {
    "editable": true
   },
   "outputs": [],
   "source": []
  },
  {
   "cell_type": "code",
   "execution_count": null,
   "metadata": {
    "editable": true
   },
   "outputs": [],
   "source": []
  },
  {
   "cell_type": "code",
   "execution_count": null,
   "metadata": {
    "editable": true
   },
   "outputs": [],
   "source": []
  },
  {
   "cell_type": "code",
   "execution_count": null,
   "metadata": {
    "editable": true
   },
   "outputs": [],
   "source": []
  },
  {
   "cell_type": "code",
   "execution_count": null,
   "metadata": {
    "editable": true
   },
   "outputs": [],
   "source": []
  },
  {
   "cell_type": "code",
   "execution_count": null,
   "metadata": {
    "editable": true
   },
   "outputs": [],
   "source": []
  },
  {
   "cell_type": "code",
   "execution_count": null,
   "metadata": {
    "editable": true
   },
   "outputs": [],
   "source": []
  }
 ],
 "metadata": {
  "kernelspec": {
   "display_name": "Python 3",
   "language": "python",
   "name": "python3"
  },
  "language_info": {
   "codemirror_mode": {
    "name": "ipython",
    "version": 3
   },
   "file_extension": ".py",
   "mimetype": "text/x-python",
   "name": "python",
   "nbconvert_exporter": "python",
   "pygments_lexer": "ipython3",
   "version": "3.6.3"
  }
 },
 "nbformat": 4,
 "nbformat_minor": 4
}
